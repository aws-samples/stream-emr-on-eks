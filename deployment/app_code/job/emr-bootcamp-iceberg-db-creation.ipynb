{
 "cells": [
  {
   "cell_type": "markdown",
   "id": "020c6d48",
   "metadata": {},
   "source": [
    "# 0. Connect to EMR Cluster with Engineer Runtime Role\n",
    "\n",
    "<div class=\"alert alert-block alert-success\">\n",
    "In this section, we connect to EMR cluster and create Spark session with *data engineer* EMR runtime role, which is designed as a Lake Formation database and table creator. \n",
    "</div>"
   ]
  },
  {
   "cell_type": "markdown",
   "id": "0b5783d9-d8a9-403a-a9ca-12ab32c8e5c4",
   "metadata": {},
   "source": [
    "## 0.1 Install and load sagemaker studio extension"
   ]
  },
  {
   "cell_type": "code",
   "execution_count": null,
   "id": "973e6aed",
   "metadata": {},
   "outputs": [],
   "source": [
    "# %pip uninstall sagemaker-studio-analytics-extension -y"
   ]
  },
  {
   "cell_type": "code",
   "execution_count": null,
   "id": "dc82cd72",
   "metadata": {
    "scrolled": true,
    "tags": []
   },
   "outputs": [],
   "source": [
    "%pip install sagemaker-studio-analytics-extension==0.0.17"
   ]
  },
  {
   "cell_type": "code",
   "execution_count": null,
   "id": "c9b6edb2",
   "metadata": {
    "tags": []
   },
   "outputs": [],
   "source": [
    "%load_ext sagemaker_studio_analytics_extension.magics"
   ]
  },
  {
   "cell_type": "markdown",
   "id": "94cdeb2f-db0e-4279-8731-f813b54b3289",
   "metadata": {},
   "source": [
    "## 0.2 Get EMR cluster ID and EMR runtime role"
   ]
  },
  {
   "cell_type": "code",
   "execution_count": null,
   "id": "03f94050-d77b-4640-851d-89b66e14f25d",
   "metadata": {
    "tags": []
   },
   "outputs": [],
   "source": [
    "%%sh\n",
    "\n",
    "source ~/.bash_profile\n",
    "ACCOUNT_ID=$(aws sts get-caller-identity --output text --query Account)\n",
    "EMR_CLUSTER_ID=$(aws emr list-clusters --active  --query 'Clusters[?contains(Name,`emr-bootcamp-runtime-role-lf`)].Id' --output text)\n",
    "echo \"ACCOUNT_ID:   $ACCOUNT_ID\"\n",
    "echo \"CLUSTER_ID:   $EMR_CLUSTER_ID\"\n",
    "echo \"IAM_ARN:      $ENGINEER_ROLE\""
   ]
  },
  {
   "cell_type": "markdown",
   "id": "d1886f8a-36d6-4039-b5a0-fbac52d5535f",
   "metadata": {},
   "source": [
    "## 0.3 Connect to EMR cluster with runtime role and create Spark Session\n",
    "\n",
    "\n",
    "\n",
    "<div class=\"alert alert-block alert-warning\">\n",
    "<b>Note:</b> In case the following `sm_analytics emr connect` cell fails, we can ignore the error and continue running `%configure -f` cell\n",
    "</div>\n",
    "\n",
    "* Replace `<CLUSTER_ID>` and `<ENGINEER_ROLE_ARN>` with the corresponding output from the above cell. "
   ]
  },
  {
   "cell_type": "code",
   "execution_count": null,
   "id": "7cbfe998",
   "metadata": {
    "tags": []
   },
   "outputs": [],
   "source": [
    "%sm_analytics emr connect \\\n",
    "--cluster-id <CLUSTER_ID> \\\n",
    "--auth-type Basic_Access \\\n",
    "--emr-execution-role-arn <ENGINEER_ROLE_ARN>"
   ]
  },
  {
   "cell_type": "markdown",
   "id": "bed7b981-e0c3-4efb-8712-3f84f3624cc4",
   "metadata": {},
   "source": [
    "<div class=\"alert alert-block alert-warning\">\n",
    "<b>Note:</b> In case the following `%configure -f` cell fails, we can ignore the error and continue running the next cell\n",
    "</div>\n",
    "\n",
    "* Replace `<ACCOUNT_ID>` with your AWS accout ID\n",
    "* Replace `<REGION>` with your region, e.g. `us-east-1`"
   ]
  },
  {
   "cell_type": "code",
   "execution_count": null,
   "id": "bd84d71c",
   "metadata": {
    "tags": []
   },
   "outputs": [],
   "source": [
    "%%configure -f\n",
    "{\n",
    "\"conf\":{\n",
    "         \"spark.sql.extensions\":\"org.apache.iceberg.spark.extensions.IcebergSparkSessionExtensions,com.amazonaws.emr.recordserver.connector.spark.sql.RecordServerSQLExtension\",\n",
    "         \"spark.sql.catalog.iceberg_catalog\":\"org.apache.iceberg.spark.SparkCatalog\",\n",
    "         \"spark.sql.catalog.iceberg_catalog.warehouse\":\"s3://lf-datalake-<ACCOUNT_ID>-us-east-1/\",\n",
    "         \"spark.sql.catalog.iceberg_catalog.catalog-impl\":\"org.apache.iceberg.aws.glue.GlueCatalog\", \n",
    "         \"spark.sql.catalog.iceberg_catalog.io-impl\":\"org.apache.iceberg.aws.s3.S3FileIO\",\n",
    "         \"spark.sql.catalog.iceberg_catalog.glue.account-id\":\"<ACCOUNT_ID>\",\n",
    "         \"spark.sql.catalog.iceberg_catalog.glue.id\":\"<ACCOUNT_ID>\",\n",
    "         \"spark.sql.catalog.iceberg_catalog.client.assume-role.region\":\"<REGION>\",\n",
    "         \"spark.sql.catalog.iceberg_catalog.lf.managed\":\"true\",\n",
    "    \n",
    "         \"spark.dynamicAllocation.enabled\": \"true\",\n",
    "         \"spark.dynamicAllocation.minExecutors\": \"3\",\n",
    "         \"spark.dynamicAllocation.maxExecutors\": \"5\"\n",
    "        }\n",
    "}"
   ]
  },
  {
   "cell_type": "code",
   "execution_count": null,
   "id": "3af1aedf",
   "metadata": {
    "tags": []
   },
   "outputs": [],
   "source": [
    "from datetime import datetime\n",
    "from pyspark.sql.functions import col,lit, current_timestamp,unix_timestamp, min, when, desc, split"
   ]
  },
  {
   "cell_type": "markdown",
   "id": "ef52d2d8-db75-4bf7-bd2c-a782fdeef20d",
   "metadata": {},
   "source": [
    "# 1. Config Parameters for Iceberg Data Lake \n",
    "\n",
    "<div class=\"alert alert-block alert-success\">\n",
    "In this section, we config the parameters for source data and iceberg database and table that will be created\n",
    "</div>"
   ]
  },
  {
   "cell_type": "markdown",
   "id": "f6347bc9-ce4e-49bf-9465-ccbe0fbb1f57",
   "metadata": {},
   "source": [
    "<div class=\"alert alert-block alert-warning\">\n",
    "<b>Note:</b> Replace the following paramters\n",
    "</div>\n",
    "\n",
    "* Replace the following `<CODEBUCKET>` with `CODEBUCKET` (e.g. `emr-roadshow-appcodeXXXX-XXXXXXXX`) from CloudFormation stack **emr-roadshow**'s **Outputs** tab. \n",
    "* Replace `ACCOUNT-ID` with your account ID"
   ]
  },
  {
   "cell_type": "code",
   "execution_count": null,
   "id": "85d8f85a",
   "metadata": {
    "tags": []
   },
   "outputs": [],
   "source": [
    "SRC_S3_BUCKET_NAME = \"<CODEBUCKET>\"\n",
    "LF_S3_BUCKET_NAME = \"lf-datalake-<ACCOUNT-ID>-us-east-1\""
   ]
  },
  {
   "cell_type": "code",
   "execution_count": null,
   "id": "29436d8a",
   "metadata": {
    "tags": []
   },
   "outputs": [],
   "source": [
    "VERSION = 1\n",
    "\n",
    "# source data variables\n",
    "SRC_DB_NAME = \"tpcparquet\"\n",
    "SRC_TABLE_NAME = \"dl_tpc_customer\"\n",
    "SRC_DATA_TEMP_VIEW = f\"{SRC_TABLE_NAME}_view_{VERSION}\"\n",
    "\n",
    "SRC_DATA_S3 = f\"s3://{SRC_S3_BUCKET_NAME}/data/{SRC_TABLE_NAME}\"\n",
    "\n",
    "PARTITION_FIELD = \"c_birth_country\"\n",
    "\n",
    "# Iceberg variables\n",
    "ICEBERG_CATALOG = \"iceberg_catalog\"\n",
    "ICEBERG_DATABASE = f\"emr_bootcamp_iceberg_db_{VERSION}\"\n",
    "ICEBERG_DATABASE_LOCATION = f\"s3://{LF_S3_BUCKET_NAME}/{ICEBERG_DATABASE}\"\n",
    "ICEBERG_TABLE_NAME = f\"emr_bootcamp_iceberg_sql_{SRC_TABLE_NAME}_{VERSION}\"\n",
    "ICEBERG_TABLE_LOCATION = f\"{ICEBERG_DATABASE_LOCATION}/{ICEBERG_TABLE_NAME}\""
   ]
  },
  {
   "cell_type": "code",
   "execution_count": null,
   "id": "ed2806e0",
   "metadata": {
    "tags": []
   },
   "outputs": [],
   "source": [
    "# sparkmagic SQL configs\n",
    "spark.conf.set('src_df_view', SRC_DATA_TEMP_VIEW)\n",
    "\n",
    "spark.conf.set('iceberg_catalog', ICEBERG_CATALOG)\n",
    "spark.conf.set('iceberg_db', ICEBERG_DATABASE)\n",
    "spark.conf.set('iceberg_db_location', ICEBERG_DATABASE_LOCATION)\n",
    "spark.conf.set('iceberg_table_name', ICEBERG_TABLE_NAME)\n",
    "spark.conf.set('iceberg_table_location', ICEBERG_TABLE_LOCATION)\n",
    "spark.conf.set('iceberg_partition_field', PARTITION_FIELD)\n",
    "\n",
    "spark.conf.set('merge_table', 'merge_table')\n",
    "\n",
    "print (\"SRC_DATA_S3:                  \"+SRC_DATA_S3)\n",
    "print (\"SRC_DATA_TEMP_VIEW:           \"+SRC_DATA_TEMP_VIEW)\n",
    "print (\"src_df_view:                  \"+SRC_DATA_TEMP_VIEW)\n",
    "print (\"iceberg_catalog:              \"+ICEBERG_CATALOG)\n",
    "print (\"iceberg_db:                   \"+ICEBERG_DATABASE)\n",
    "print (\"iceberg_table_name:           \"+ICEBERG_TABLE_NAME)\n",
    "print (\"iceberg_db_location:          \"+ICEBERG_DATABASE_LOCATION)\n",
    "print (\"iceberg_table_location:       \"+ICEBERG_TABLE_LOCATION)"
   ]
  },
  {
   "cell_type": "markdown",
   "id": "97ff280b",
   "metadata": {},
   "source": [
    "# 2. Create Iceberg DB and Table\n",
    "\n",
    "<div class=\"alert alert-block alert-success\">\n",
    "In this section, we will create Iceberg database and tables\n",
    "</div>"
   ]
  },
  {
   "cell_type": "code",
   "execution_count": null,
   "id": "b1fdc4bd",
   "metadata": {
    "tags": []
   },
   "outputs": [],
   "source": [
    "# Read source data\n",
    "\n",
    "src_df = spark.read.parquet(SRC_DATA_S3)\n",
    "src_df.createOrReplaceTempView(SRC_DATA_TEMP_VIEW)"
   ]
  },
  {
   "cell_type": "code",
   "execution_count": null,
   "id": "4cc63f90",
   "metadata": {
    "tags": []
   },
   "outputs": [],
   "source": [
    "%%sql\n",
    "\n",
    "SELECT \n",
    "*\n",
    "FROM ${src_df_view}\n",
    "LIMIT 5"
   ]
  },
  {
   "cell_type": "code",
   "execution_count": null,
   "id": "a81290a5",
   "metadata": {
    "tags": []
   },
   "outputs": [],
   "source": [
    "%%sql \n",
    "\n",
    "CREATE DATABASE IF NOT EXISTS ${iceberg_catalog}.${iceberg_db} LOCATION '${iceberg_db_location}';"
   ]
  },
  {
   "cell_type": "code",
   "execution_count": null,
   "id": "ad23c0ed-7d15-4101-b920-0ffb04df8d03",
   "metadata": {
    "tags": []
   },
   "outputs": [],
   "source": [
    "# %%sql\n",
    "# DROP TABLE IF EXISTS ${iceberg_catalog}.${iceberg_db}.${iceberg_table_name};"
   ]
  },
  {
   "cell_type": "code",
   "execution_count": null,
   "id": "baef79b4",
   "metadata": {
    "tags": []
   },
   "outputs": [],
   "source": [
    "%%sql \n",
    "\n",
    "CREATE TABLE IF NOT EXISTS ${iceberg_catalog}.${iceberg_db}.${iceberg_table_name}(\n",
    "    c_customer_id string,\n",
    "    c_birth_country string,\n",
    "    c_customer_sk INT,\n",
    "    c_email_address string,\n",
    "    c_first_name string,\n",
    "    c_last_name string,\n",
    "    ts BIGINT\n",
    ") USING iceberg\n",
    "LOCATION '${iceberg_table_location}'\n",
    "PARTITIONED BY (${iceberg_partition_field});"
   ]
  },
  {
   "cell_type": "code",
   "execution_count": null,
   "id": "f7bdf6cc",
   "metadata": {
    "tags": []
   },
   "outputs": [],
   "source": [
    "%%sql\n",
    "\n",
    "DESCRIBE ${iceberg_catalog}.${iceberg_db}.${iceberg_table_name}"
   ]
  },
  {
   "cell_type": "markdown",
   "id": "7b7fb44c",
   "metadata": {},
   "source": [
    "# 3. Insert First 1000 Records to Iceberg Table\n",
    "\n",
    "<div class=\"alert alert-block alert-success\">\n",
    "In this section, we will insert a batch of records to created iceberg table for the first time.\n",
    "</div>"
   ]
  },
  {
   "cell_type": "code",
   "execution_count": null,
   "id": "cf2b8ad5",
   "metadata": {
    "tags": []
   },
   "outputs": [],
   "source": [
    "src_df.filter(\n",
    "    (col(\"c_birth_country\") == 'CHINA') | (col(\"c_birth_country\") == 'HONG KONG')\n",
    ").groupBy(\n",
    "    \"c_birth_country\"\n",
    ").count().show(10, False)"
   ]
  },
  {
   "cell_type": "code",
   "execution_count": null,
   "id": "a760b209",
   "metadata": {
    "tags": []
   },
   "outputs": [],
   "source": [
    "%%sql\n",
    "\n",
    "INSERT OVERWRITE ${iceberg_catalog}.${iceberg_db}.${iceberg_table_name}\n",
    "SELECT \n",
    "    c_customer_id, \n",
    "    c_birth_country,\n",
    "    CAST(c_customer_sk AS INT),\n",
    "    c_email_address,\n",
    "    c_first_name,\n",
    "    c_last_name,\n",
    "    unix_timestamp(current_timestamp()) AS ts    \n",
    "FROM ${src_df_view}\n",
    "WHERE c_birth_country = 'HONG KONG' OR c_birth_country = 'CHINA' \n",
    "LIMIT 1000"
   ]
  },
  {
   "cell_type": "code",
   "execution_count": null,
   "id": "e340e6b3",
   "metadata": {
    "tags": []
   },
   "outputs": [],
   "source": [
    "%%sql\n",
    "\n",
    "SELECT * FROM ${iceberg_catalog}.${iceberg_db}.${iceberg_table_name} LIMIT 5"
   ]
  },
  {
   "cell_type": "code",
   "execution_count": null,
   "id": "8997902d",
   "metadata": {
    "tags": []
   },
   "outputs": [],
   "source": [
    "%%sql\n",
    "-- total count should be 1000\n",
    "SELECT \n",
    "    c_birth_country, \n",
    "    count(*) \n",
    "FROM ${iceberg_catalog}.${iceberg_db}.${iceberg_table_name} \n",
    "GROUP BY c_birth_country;"
   ]
  },
  {
   "cell_type": "markdown",
   "id": "59e724ba",
   "metadata": {},
   "source": [
    "# 4. Insert 6 extra Records to Iceberg Table\n",
    "\n",
    "<div class=\"alert alert-block alert-success\">\n",
    "In this section, we will insert the second batch of records to created iceberg table.\n",
    "</div>"
   ]
  },
  {
   "cell_type": "code",
   "execution_count": null,
   "id": "be169657",
   "metadata": {
    "tags": []
   },
   "outputs": [],
   "source": [
    "# Read Source Data\n",
    "src_df = spark.read.parquet(SRC_DATA_S3)\n",
    "src_df.createOrReplaceTempView(SRC_DATA_TEMP_VIEW)\n",
    "\n",
    "insert_into_view = \"insert_into_view\"\n",
    "\n",
    "spark.conf.set('insert_into_view', insert_into_view)"
   ]
  },
  {
   "cell_type": "code",
   "execution_count": null,
   "id": "dbbaef3c",
   "metadata": {
    "tags": []
   },
   "outputs": [],
   "source": [
    "%%sql\n",
    "\n",
    "\n",
    "CREATE TEMPORARY VIEW ${insert_into_view} AS (\n",
    "    (SELECT\n",
    "        c_customer_id , \n",
    "        c_birth_country,\n",
    "        c_customer_sk,\n",
    "        c_email_address,\n",
    "        c_first_name,\n",
    "        c_last_name,\n",
    "        unix_timestamp(current_timestamp()) AS ts\n",
    "    FROM ${src_df_view}\n",
    "    WHERE c_birth_country = 'INDIA' \n",
    "    LIMIT 3\n",
    "    )\n",
    "    \n",
    "    UNION\n",
    "    \n",
    "    (SELECT\n",
    "        c_customer_id , \n",
    "        c_birth_country,\n",
    "        c_customer_sk,\n",
    "        c_email_address,\n",
    "        'MASKED' AS c_first_name,\n",
    "        c_last_name,\n",
    "        unix_timestamp(current_timestamp()) AS ts\n",
    "    FROM ${iceberg_catalog}.${iceberg_db}.${iceberg_table_name}\n",
    "    WHERE c_birth_country = 'CHINA' \n",
    "    LIMIT 3\n",
    "    )\n",
    ");"
   ]
  },
  {
   "cell_type": "code",
   "execution_count": null,
   "id": "1dfbae0b",
   "metadata": {
    "tags": []
   },
   "outputs": [],
   "source": [
    "%%sql\n",
    "\n",
    "SELECT * FROM ${insert_into_view}"
   ]
  },
  {
   "cell_type": "code",
   "execution_count": null,
   "id": "913375de",
   "metadata": {
    "tags": []
   },
   "outputs": [],
   "source": [
    "%%sql\n",
    "INSERT INTO ${iceberg_catalog}.${iceberg_db}.${iceberg_table_name}\n",
    "SELECT \n",
    "    c_customer_id,\n",
    "    c_birth_country,\n",
    "    c_customer_sk,\n",
    "    c_email_address,\n",
    "    c_first_name,\n",
    "    c_last_name,\n",
    "    unix_timestamp(current_timestamp()) AS ts\n",
    "FROM ${insert_into_view}"
   ]
  },
  {
   "cell_type": "code",
   "execution_count": null,
   "id": "6cd9948e",
   "metadata": {
    "tags": []
   },
   "outputs": [],
   "source": [
    "%%sql\n",
    "-- expect two records with difference timestampes, representing 2 batches of inserts\n",
    "-- if not 2 rows, execute the query again\n",
    "\n",
    "SELECT ts, count(*) \n",
    "FROM ${iceberg_catalog}.${iceberg_db}.${iceberg_table_name} \n",
    "GROUP BY ts;"
   ]
  },
  {
   "cell_type": "code",
   "execution_count": null,
   "id": "9f8c89e8",
   "metadata": {
    "tags": []
   },
   "outputs": [],
   "source": [
    "%%sql\n",
    "-- INDIA records were inserted in the 2nd batch. Both inserts include CHINA records\n",
    "\n",
    "SELECT \n",
    "    c_birth_country, \n",
    "    count(*) \n",
    "FROM ${iceberg_catalog}.${iceberg_db}.${iceberg_table_name} \n",
    "WHERE c_birth_country in ('INDIA' ,'CHINA')\n",
    "GROUP BY c_birth_country;"
   ]
  },
  {
   "cell_type": "code",
   "execution_count": null,
   "id": "a12a1151",
   "metadata": {
    "tags": []
   },
   "outputs": [],
   "source": [
    "%%sql\n",
    "-- 3 INDIA records were inserted in the 2nd batch\n",
    "\n",
    "SELECT *  \n",
    "FROM ${iceberg_catalog}.${iceberg_db}.${iceberg_table_name}\n",
    "WHERE \n",
    "    c_birth_country = 'INDIA'"
   ]
  },
  {
   "cell_type": "markdown",
   "id": "261463a4",
   "metadata": {},
   "source": [
    "# 5. Time travel\n",
    "\n",
    "<div class=\"alert alert-block alert-success\">\n",
    "In this section, we will try time travel feature of Iceberg\n",
    "</div>"
   ]
  },
  {
   "cell_type": "code",
   "execution_count": null,
   "id": "6738834c",
   "metadata": {
    "tags": []
   },
   "outputs": [],
   "source": [
    "%%sql\n",
    "\n",
    "SELECT *\n",
    "FROM ${iceberg_catalog}.${iceberg_db}.${iceberg_table_name}.history "
   ]
  },
  {
   "cell_type": "code",
   "execution_count": null,
   "id": "837329d5",
   "metadata": {
    "tags": []
   },
   "outputs": [],
   "source": [
    "%%sql\n",
    "\n",
    "SELECT *\n",
    "FROM ${iceberg_catalog}.${iceberg_db}.${iceberg_table_name}.snapshots "
   ]
  },
  {
   "cell_type": "markdown",
   "id": "0ee4473c-2442-4f4b-aeb7-ba0120341005",
   "metadata": {},
   "source": [
    "<div class=\"alert alert-block alert-warning\">\n",
    "<b>Note:</b> Replace the snapshot_id from above queries for snapshots\n",
    "</div>\n",
    "\n",
    "* Replace `<FIRST_SNAPSHOT_ID>` with `snapshot_id` WITHOUT `parent_id`\n",
    "\n",
    "* Replace `<SECOND_SNAPSHOT_ID>` with `snapshot_id` with `parent_id`"
   ]
  },
  {
   "cell_type": "code",
   "execution_count": null,
   "id": "06647680",
   "metadata": {
    "tags": []
   },
   "outputs": [],
   "source": [
    "%%sql\n",
    "\n",
    "SELECT \n",
    "    c_birth_country, \n",
    "    count(*) \n",
    "FROM ${iceberg_catalog}.${iceberg_db}.${iceberg_table_name} FOR SYSTEM_VERSION AS OF <FIRST_SNAPSHOT_ID>\n",
    "GROUP BY c_birth_country;"
   ]
  },
  {
   "cell_type": "code",
   "execution_count": null,
   "id": "842a17e0",
   "metadata": {
    "tags": []
   },
   "outputs": [],
   "source": [
    "%%sql\n",
    "\n",
    "SELECT \n",
    "    c_birth_country, \n",
    "    count(*) \n",
    "FROM ${iceberg_catalog}.${iceberg_db}.${iceberg_table_name} FOR SYSTEM_VERSION AS OF <SECOND_SNAPSHOT_ID>\n",
    "GROUP BY c_birth_country;"
   ]
  },
  {
   "cell_type": "code",
   "execution_count": null,
   "id": "7607cafd",
   "metadata": {},
   "outputs": [],
   "source": []
  }
 ],
 "metadata": {
  "kernelspec": {
   "display_name": "Sparkmagic (PySpark)",
   "language": "python",
   "name": "pysparkkernel"
  },
  "language_info": {
   "codemirror_mode": {
    "name": "python",
    "version": 3
   },
   "file_extension": ".py",
   "mimetype": "text/x-python",
   "name": "pyspark",
   "pygments_lexer": "python3"
  }
 },
 "nbformat": 4,
 "nbformat_minor": 5
}
