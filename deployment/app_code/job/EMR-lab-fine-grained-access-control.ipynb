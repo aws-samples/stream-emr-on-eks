{
 "cells": [
  {
   "cell_type": "code",
   "execution_count": 64,
   "id": "be5bf4fb",
   "metadata": {},
   "outputs": [
    {
     "name": "stdout",
     "output_type": "stream",
     "text": [
      "Looking in indexes: https://pypi.org/simple, https://pip.repos.neuron.amazonaws.com\n",
      "Requirement already satisfied: sagemaker-studio-analytics-extension in /home/ec2-user/anaconda3/envs/JupyterSystemEnv/lib/python3.7/site-packages (0.0.17)\n",
      "Requirement already satisfied: sparkmagic==0.20.4 in /home/ec2-user/anaconda3/envs/JupyterSystemEnv/lib/python3.7/site-packages (from sagemaker-studio-analytics-extension) (0.20.4)\n",
      "Requirement already satisfied: boto3<2.0,>=1.26.49 in /home/ec2-user/anaconda3/envs/JupyterSystemEnv/lib/python3.7/site-packages (from sagemaker-studio-analytics-extension) (1.26.71)\n",
      "Requirement already satisfied: sagemaker-studio-sparkmagic-lib>=0.1.1 in /home/ec2-user/anaconda3/envs/JupyterSystemEnv/lib/python3.7/site-packages (from sagemaker-studio-analytics-extension) (0.1.4)\n",
      "Requirement already satisfied: filelock>=3.0.12 in /home/ec2-user/anaconda3/envs/JupyterSystemEnv/lib/python3.7/site-packages (from sagemaker-studio-analytics-extension) (3.10.4)\n",
      "Requirement already satisfied: requests-kerberos>=0.8.0 in /home/ec2-user/anaconda3/envs/JupyterSystemEnv/lib/python3.7/site-packages (from sparkmagic==0.20.4->sagemaker-studio-analytics-extension) (0.12.0)\n",
      "Requirement already satisfied: pandas>=0.17.1 in /home/ec2-user/anaconda3/envs/JupyterSystemEnv/lib/python3.7/site-packages (from sparkmagic==0.20.4->sagemaker-studio-analytics-extension) (1.3.5)\n",
      "Requirement already satisfied: tornado>=4 in /home/ec2-user/anaconda3/envs/JupyterSystemEnv/lib/python3.7/site-packages (from sparkmagic==0.20.4->sagemaker-studio-analytics-extension) (6.2)\n",
      "Requirement already satisfied: notebook>=4.2 in /home/ec2-user/anaconda3/envs/JupyterSystemEnv/lib/python3.7/site-packages (from sparkmagic==0.20.4->sagemaker-studio-analytics-extension) (6.4.12)\n",
      "Requirement already satisfied: numpy in /home/ec2-user/anaconda3/envs/JupyterSystemEnv/lib/python3.7/site-packages (from sparkmagic==0.20.4->sagemaker-studio-analytics-extension) (1.21.6)\n",
      "Requirement already satisfied: ipython>=4.0.2 in /home/ec2-user/anaconda3/envs/JupyterSystemEnv/lib/python3.7/site-packages (from sparkmagic==0.20.4->sagemaker-studio-analytics-extension) (7.33.0)\n",
      "Requirement already satisfied: nest-asyncio==1.5.5 in /home/ec2-user/anaconda3/envs/JupyterSystemEnv/lib/python3.7/site-packages (from sparkmagic==0.20.4->sagemaker-studio-analytics-extension) (1.5.5)\n",
      "Requirement already satisfied: requests in /home/ec2-user/anaconda3/envs/JupyterSystemEnv/lib/python3.7/site-packages (from sparkmagic==0.20.4->sagemaker-studio-analytics-extension) (2.28.2)\n",
      "Requirement already satisfied: hdijupyterutils>=0.6 in /home/ec2-user/anaconda3/envs/JupyterSystemEnv/lib/python3.7/site-packages (from sparkmagic==0.20.4->sagemaker-studio-analytics-extension) (0.20.4)\n",
      "Requirement already satisfied: ipykernel>=4.2.2 in /home/ec2-user/anaconda3/envs/JupyterSystemEnv/lib/python3.7/site-packages (from sparkmagic==0.20.4->sagemaker-studio-analytics-extension) (6.16.2)\n",
      "Requirement already satisfied: autovizwidget>=0.6 in /home/ec2-user/anaconda3/envs/JupyterSystemEnv/lib/python3.7/site-packages (from sparkmagic==0.20.4->sagemaker-studio-analytics-extension) (0.20.4)\n",
      "Requirement already satisfied: ipywidgets>5.0.0 in /home/ec2-user/anaconda3/envs/JupyterSystemEnv/lib/python3.7/site-packages (from sparkmagic==0.20.4->sagemaker-studio-analytics-extension) (8.0.4)\n",
      "Requirement already satisfied: botocore<1.30.0,>=1.29.71 in /home/ec2-user/anaconda3/envs/JupyterSystemEnv/lib/python3.7/site-packages (from boto3<2.0,>=1.26.49->sagemaker-studio-analytics-extension) (1.29.71)\n",
      "Requirement already satisfied: s3transfer<0.7.0,>=0.6.0 in /home/ec2-user/anaconda3/envs/JupyterSystemEnv/lib/python3.7/site-packages (from boto3<2.0,>=1.26.49->sagemaker-studio-analytics-extension) (0.6.0)\n",
      "Requirement already satisfied: jmespath<2.0.0,>=0.7.1 in /home/ec2-user/anaconda3/envs/JupyterSystemEnv/lib/python3.7/site-packages (from boto3<2.0,>=1.26.49->sagemaker-studio-analytics-extension) (1.0.1)\n",
      "Requirement already satisfied: plotly>=3 in /home/ec2-user/anaconda3/envs/JupyterSystemEnv/lib/python3.7/site-packages (from autovizwidget>=0.6->sparkmagic==0.20.4->sagemaker-studio-analytics-extension) (5.13.0)\n",
      "Requirement already satisfied: python-dateutil<3.0.0,>=2.1 in /home/ec2-user/anaconda3/envs/JupyterSystemEnv/lib/python3.7/site-packages (from botocore<1.30.0,>=1.29.71->boto3<2.0,>=1.26.49->sagemaker-studio-analytics-extension) (2.8.2)\n",
      "Requirement already satisfied: urllib3<1.27,>=1.25.4 in /home/ec2-user/anaconda3/envs/JupyterSystemEnv/lib/python3.7/site-packages (from botocore<1.30.0,>=1.29.71->boto3<2.0,>=1.26.49->sagemaker-studio-analytics-extension) (1.26.8)\n",
      "Requirement already satisfied: jupyter>=1 in /home/ec2-user/anaconda3/envs/JupyterSystemEnv/lib/python3.7/site-packages (from hdijupyterutils>=0.6->sparkmagic==0.20.4->sagemaker-studio-analytics-extension) (1.0.0)\n",
      "Requirement already satisfied: jupyter-client>=6.1.12 in /home/ec2-user/anaconda3/envs/JupyterSystemEnv/lib/python3.7/site-packages (from ipykernel>=4.2.2->sparkmagic==0.20.4->sagemaker-studio-analytics-extension) (7.4.9)\n",
      "Requirement already satisfied: psutil in /home/ec2-user/anaconda3/envs/JupyterSystemEnv/lib/python3.7/site-packages (from ipykernel>=4.2.2->sparkmagic==0.20.4->sagemaker-studio-analytics-extension) (5.9.3)\n",
      "Requirement already satisfied: packaging in /home/ec2-user/anaconda3/envs/JupyterSystemEnv/lib/python3.7/site-packages (from ipykernel>=4.2.2->sparkmagic==0.20.4->sagemaker-studio-analytics-extension) (23.0)\n",
      "Requirement already satisfied: matplotlib-inline>=0.1 in /home/ec2-user/anaconda3/envs/JupyterSystemEnv/lib/python3.7/site-packages (from ipykernel>=4.2.2->sparkmagic==0.20.4->sagemaker-studio-analytics-extension) (0.1.6)\n",
      "Requirement already satisfied: debugpy>=1.0 in /home/ec2-user/anaconda3/envs/JupyterSystemEnv/lib/python3.7/site-packages (from ipykernel>=4.2.2->sparkmagic==0.20.4->sagemaker-studio-analytics-extension) (1.6.3)\n",
      "Requirement already satisfied: pyzmq>=17 in /home/ec2-user/anaconda3/envs/JupyterSystemEnv/lib/python3.7/site-packages (from ipykernel>=4.2.2->sparkmagic==0.20.4->sagemaker-studio-analytics-extension) (24.0.1)\n",
      "Requirement already satisfied: traitlets>=5.1.0 in /home/ec2-user/anaconda3/envs/JupyterSystemEnv/lib/python3.7/site-packages (from ipykernel>=4.2.2->sparkmagic==0.20.4->sagemaker-studio-analytics-extension) (5.9.0)\n",
      "Requirement already satisfied: jedi>=0.16 in /home/ec2-user/anaconda3/envs/JupyterSystemEnv/lib/python3.7/site-packages (from ipython>=4.0.2->sparkmagic==0.20.4->sagemaker-studio-analytics-extension) (0.18.2)\n",
      "Requirement already satisfied: setuptools>=18.5 in /home/ec2-user/anaconda3/envs/JupyterSystemEnv/lib/python3.7/site-packages (from ipython>=4.0.2->sparkmagic==0.20.4->sagemaker-studio-analytics-extension) (67.3.1)\n",
      "Requirement already satisfied: pygments in /home/ec2-user/anaconda3/envs/JupyterSystemEnv/lib/python3.7/site-packages (from ipython>=4.0.2->sparkmagic==0.20.4->sagemaker-studio-analytics-extension) (2.14.0)\n",
      "Requirement already satisfied: decorator in /home/ec2-user/anaconda3/envs/JupyterSystemEnv/lib/python3.7/site-packages (from ipython>=4.0.2->sparkmagic==0.20.4->sagemaker-studio-analytics-extension) (5.1.1)\n",
      "Requirement already satisfied: pickleshare in /home/ec2-user/anaconda3/envs/JupyterSystemEnv/lib/python3.7/site-packages (from ipython>=4.0.2->sparkmagic==0.20.4->sagemaker-studio-analytics-extension) (0.7.5)\n",
      "Requirement already satisfied: backcall in /home/ec2-user/anaconda3/envs/JupyterSystemEnv/lib/python3.7/site-packages (from ipython>=4.0.2->sparkmagic==0.20.4->sagemaker-studio-analytics-extension) (0.2.0)\n",
      "Requirement already satisfied: prompt-toolkit!=3.0.0,!=3.0.1,<3.1.0,>=2.0.0 in /home/ec2-user/anaconda3/envs/JupyterSystemEnv/lib/python3.7/site-packages (from ipython>=4.0.2->sparkmagic==0.20.4->sagemaker-studio-analytics-extension) (3.0.36)\n",
      "Requirement already satisfied: pexpect>4.3 in /home/ec2-user/anaconda3/envs/JupyterSystemEnv/lib/python3.7/site-packages (from ipython>=4.0.2->sparkmagic==0.20.4->sagemaker-studio-analytics-extension) (4.8.0)\n",
      "Requirement already satisfied: jupyterlab-widgets~=3.0 in /home/ec2-user/anaconda3/envs/JupyterSystemEnv/lib/python3.7/site-packages (from ipywidgets>5.0.0->sparkmagic==0.20.4->sagemaker-studio-analytics-extension) (3.0.5)\n",
      "Requirement already satisfied: widgetsnbextension~=4.0 in /home/ec2-user/anaconda3/envs/JupyterSystemEnv/lib/python3.7/site-packages (from ipywidgets>5.0.0->sparkmagic==0.20.4->sagemaker-studio-analytics-extension) (4.0.5)\n",
      "Requirement already satisfied: prometheus-client in /home/ec2-user/anaconda3/envs/JupyterSystemEnv/lib/python3.7/site-packages (from notebook>=4.2->sparkmagic==0.20.4->sagemaker-studio-analytics-extension) (0.16.0)\n",
      "Requirement already satisfied: jinja2 in /home/ec2-user/anaconda3/envs/JupyterSystemEnv/lib/python3.7/site-packages (from notebook>=4.2->sparkmagic==0.20.4->sagemaker-studio-analytics-extension) (3.1.2)\n",
      "Requirement already satisfied: ipython-genutils in /home/ec2-user/anaconda3/envs/JupyterSystemEnv/lib/python3.7/site-packages (from notebook>=4.2->sparkmagic==0.20.4->sagemaker-studio-analytics-extension) (0.2.0)\n",
      "Requirement already satisfied: argon2-cffi in /home/ec2-user/anaconda3/envs/JupyterSystemEnv/lib/python3.7/site-packages (from notebook>=4.2->sparkmagic==0.20.4->sagemaker-studio-analytics-extension) (21.3.0)\n",
      "Requirement already satisfied: nbconvert>=5 in /home/ec2-user/anaconda3/envs/JupyterSystemEnv/lib/python3.7/site-packages (from notebook>=4.2->sparkmagic==0.20.4->sagemaker-studio-analytics-extension) (7.2.9)\n",
      "Requirement already satisfied: terminado>=0.8.3 in /home/ec2-user/anaconda3/envs/JupyterSystemEnv/lib/python3.7/site-packages (from notebook>=4.2->sparkmagic==0.20.4->sagemaker-studio-analytics-extension) (0.17.1)\n",
      "Requirement already satisfied: Send2Trash>=1.8.0 in /home/ec2-user/anaconda3/envs/JupyterSystemEnv/lib/python3.7/site-packages (from notebook>=4.2->sparkmagic==0.20.4->sagemaker-studio-analytics-extension) (1.8.0)\n",
      "Requirement already satisfied: jupyter-core>=4.6.1 in /home/ec2-user/anaconda3/envs/JupyterSystemEnv/lib/python3.7/site-packages (from notebook>=4.2->sparkmagic==0.20.4->sagemaker-studio-analytics-extension) (4.12.0)\n",
      "Requirement already satisfied: nbformat in /home/ec2-user/anaconda3/envs/JupyterSystemEnv/lib/python3.7/site-packages (from notebook>=4.2->sparkmagic==0.20.4->sagemaker-studio-analytics-extension) (5.7.3)\n",
      "Requirement already satisfied: pytz>=2017.3 in /home/ec2-user/anaconda3/envs/JupyterSystemEnv/lib/python3.7/site-packages (from pandas>=0.17.1->sparkmagic==0.20.4->sagemaker-studio-analytics-extension) (2022.7.1)\n",
      "Requirement already satisfied: pykerberos<2.0.0,>=1.1.8 in /home/ec2-user/anaconda3/envs/JupyterSystemEnv/lib/python3.7/site-packages (from requests-kerberos>=0.8.0->sparkmagic==0.20.4->sagemaker-studio-analytics-extension) (1.2.4)\n",
      "Requirement already satisfied: cryptography>=1.3 in /home/ec2-user/anaconda3/envs/JupyterSystemEnv/lib/python3.7/site-packages (from requests-kerberos>=0.8.0->sparkmagic==0.20.4->sagemaker-studio-analytics-extension) (37.0.4)\n",
      "Requirement already satisfied: certifi>=2017.4.17 in /home/ec2-user/anaconda3/envs/JupyterSystemEnv/lib/python3.7/site-packages (from requests->sparkmagic==0.20.4->sagemaker-studio-analytics-extension) (2022.12.7)\n",
      "Requirement already satisfied: charset-normalizer<4,>=2 in /home/ec2-user/anaconda3/envs/JupyterSystemEnv/lib/python3.7/site-packages (from requests->sparkmagic==0.20.4->sagemaker-studio-analytics-extension) (2.1.1)\n",
      "Requirement already satisfied: idna<4,>=2.5 in /home/ec2-user/anaconda3/envs/JupyterSystemEnv/lib/python3.7/site-packages (from requests->sparkmagic==0.20.4->sagemaker-studio-analytics-extension) (3.4)\n",
      "Requirement already satisfied: cffi>=1.12 in /home/ec2-user/anaconda3/envs/JupyterSystemEnv/lib/python3.7/site-packages (from cryptography>=1.3->requests-kerberos>=0.8.0->sparkmagic==0.20.4->sagemaker-studio-analytics-extension) (1.15.1)\n",
      "Requirement already satisfied: parso<0.9.0,>=0.8.0 in /home/ec2-user/anaconda3/envs/JupyterSystemEnv/lib/python3.7/site-packages (from jedi>=0.16->ipython>=4.0.2->sparkmagic==0.20.4->sagemaker-studio-analytics-extension) (0.8.3)\n",
      "Requirement already satisfied: qtconsole in /home/ec2-user/anaconda3/envs/JupyterSystemEnv/lib/python3.7/site-packages (from jupyter>=1->hdijupyterutils>=0.6->sparkmagic==0.20.4->sagemaker-studio-analytics-extension) (5.4.0)\n",
      "Requirement already satisfied: jupyter-console in /home/ec2-user/anaconda3/envs/JupyterSystemEnv/lib/python3.7/site-packages (from jupyter>=1->hdijupyterutils>=0.6->sparkmagic==0.20.4->sagemaker-studio-analytics-extension) (6.5.1)\n",
      "Requirement already satisfied: entrypoints in /home/ec2-user/anaconda3/envs/JupyterSystemEnv/lib/python3.7/site-packages (from jupyter-client>=6.1.12->ipykernel>=4.2.2->sparkmagic==0.20.4->sagemaker-studio-analytics-extension) (0.4)\n",
      "Requirement already satisfied: mistune<3,>=2.0.3 in /home/ec2-user/anaconda3/envs/JupyterSystemEnv/lib/python3.7/site-packages (from nbconvert>=5->notebook>=4.2->sparkmagic==0.20.4->sagemaker-studio-analytics-extension) (2.0.5)\n",
      "Requirement already satisfied: jupyterlab-pygments in /home/ec2-user/anaconda3/envs/JupyterSystemEnv/lib/python3.7/site-packages (from nbconvert>=5->notebook>=4.2->sparkmagic==0.20.4->sagemaker-studio-analytics-extension) (0.2.2)\n",
      "Requirement already satisfied: tinycss2 in /home/ec2-user/anaconda3/envs/JupyterSystemEnv/lib/python3.7/site-packages (from nbconvert>=5->notebook>=4.2->sparkmagic==0.20.4->sagemaker-studio-analytics-extension) (1.2.1)\n",
      "Requirement already satisfied: beautifulsoup4 in /home/ec2-user/anaconda3/envs/JupyterSystemEnv/lib/python3.7/site-packages (from nbconvert>=5->notebook>=4.2->sparkmagic==0.20.4->sagemaker-studio-analytics-extension) (4.11.2)\n",
      "Requirement already satisfied: bleach in /home/ec2-user/anaconda3/envs/JupyterSystemEnv/lib/python3.7/site-packages (from nbconvert>=5->notebook>=4.2->sparkmagic==0.20.4->sagemaker-studio-analytics-extension) (6.0.0)\n",
      "Requirement already satisfied: defusedxml in /home/ec2-user/anaconda3/envs/JupyterSystemEnv/lib/python3.7/site-packages (from nbconvert>=5->notebook>=4.2->sparkmagic==0.20.4->sagemaker-studio-analytics-extension) (0.7.1)\n",
      "Requirement already satisfied: markupsafe>=2.0 in /home/ec2-user/anaconda3/envs/JupyterSystemEnv/lib/python3.7/site-packages (from nbconvert>=5->notebook>=4.2->sparkmagic==0.20.4->sagemaker-studio-analytics-extension) (2.1.1)\n",
      "Requirement already satisfied: importlib-metadata>=3.6 in /home/ec2-user/anaconda3/envs/JupyterSystemEnv/lib/python3.7/site-packages (from nbconvert>=5->notebook>=4.2->sparkmagic==0.20.4->sagemaker-studio-analytics-extension) (4.11.4)\n",
      "Requirement already satisfied: nbclient>=0.5.0 in /home/ec2-user/anaconda3/envs/JupyterSystemEnv/lib/python3.7/site-packages (from nbconvert>=5->notebook>=4.2->sparkmagic==0.20.4->sagemaker-studio-analytics-extension) (0.7.0)\n",
      "Requirement already satisfied: pandocfilters>=1.4.1 in /home/ec2-user/anaconda3/envs/JupyterSystemEnv/lib/python3.7/site-packages (from nbconvert>=5->notebook>=4.2->sparkmagic==0.20.4->sagemaker-studio-analytics-extension) (1.5.0)\n",
      "Requirement already satisfied: fastjsonschema in /home/ec2-user/anaconda3/envs/JupyterSystemEnv/lib/python3.7/site-packages (from nbformat->notebook>=4.2->sparkmagic==0.20.4->sagemaker-studio-analytics-extension) (2.16.2)\n",
      "Requirement already satisfied: jsonschema>=2.6 in /home/ec2-user/anaconda3/envs/JupyterSystemEnv/lib/python3.7/site-packages (from nbformat->notebook>=4.2->sparkmagic==0.20.4->sagemaker-studio-analytics-extension) (3.2.0)\n",
      "Requirement already satisfied: ptyprocess>=0.5 in /home/ec2-user/anaconda3/envs/JupyterSystemEnv/lib/python3.7/site-packages (from pexpect>4.3->ipython>=4.0.2->sparkmagic==0.20.4->sagemaker-studio-analytics-extension) (0.7.0)\n",
      "Requirement already satisfied: tenacity>=6.2.0 in /home/ec2-user/anaconda3/envs/JupyterSystemEnv/lib/python3.7/site-packages (from plotly>=3->autovizwidget>=0.6->sparkmagic==0.20.4->sagemaker-studio-analytics-extension) (8.2.1)\n",
      "Requirement already satisfied: wcwidth in /home/ec2-user/anaconda3/envs/JupyterSystemEnv/lib/python3.7/site-packages (from prompt-toolkit!=3.0.0,!=3.0.1,<3.1.0,>=2.0.0->ipython>=4.0.2->sparkmagic==0.20.4->sagemaker-studio-analytics-extension) (0.2.6)\n",
      "Requirement already satisfied: six>=1.5 in /home/ec2-user/anaconda3/envs/JupyterSystemEnv/lib/python3.7/site-packages (from python-dateutil<3.0.0,>=2.1->botocore<1.30.0,>=1.29.71->boto3<2.0,>=1.26.49->sagemaker-studio-analytics-extension) (1.16.0)\n",
      "Requirement already satisfied: typing-extensions in /home/ec2-user/anaconda3/envs/JupyterSystemEnv/lib/python3.7/site-packages (from argon2-cffi->notebook>=4.2->sparkmagic==0.20.4->sagemaker-studio-analytics-extension) (4.4.0)\n",
      "Requirement already satisfied: argon2-cffi-bindings in /home/ec2-user/anaconda3/envs/JupyterSystemEnv/lib/python3.7/site-packages (from argon2-cffi->notebook>=4.2->sparkmagic==0.20.4->sagemaker-studio-analytics-extension) (21.2.0)\n",
      "Requirement already satisfied: pycparser in /home/ec2-user/anaconda3/envs/JupyterSystemEnv/lib/python3.7/site-packages (from cffi>=1.12->cryptography>=1.3->requests-kerberos>=0.8.0->sparkmagic==0.20.4->sagemaker-studio-analytics-extension) (2.21)\n",
      "Requirement already satisfied: zipp>=0.5 in /home/ec2-user/anaconda3/envs/JupyterSystemEnv/lib/python3.7/site-packages (from importlib-metadata>=3.6->nbconvert>=5->notebook>=4.2->sparkmagic==0.20.4->sagemaker-studio-analytics-extension) (3.13.0)\n",
      "Requirement already satisfied: pyrsistent>=0.14.0 in /home/ec2-user/anaconda3/envs/JupyterSystemEnv/lib/python3.7/site-packages (from jsonschema>=2.6->nbformat->notebook>=4.2->sparkmagic==0.20.4->sagemaker-studio-analytics-extension) (0.18.1)\n",
      "Requirement already satisfied: attrs>=17.4.0 in /home/ec2-user/anaconda3/envs/JupyterSystemEnv/lib/python3.7/site-packages (from jsonschema>=2.6->nbformat->notebook>=4.2->sparkmagic==0.20.4->sagemaker-studio-analytics-extension) (22.2.0)\n",
      "Requirement already satisfied: soupsieve>1.2 in /home/ec2-user/anaconda3/envs/JupyterSystemEnv/lib/python3.7/site-packages (from beautifulsoup4->nbconvert>=5->notebook>=4.2->sparkmagic==0.20.4->sagemaker-studio-analytics-extension) (2.3.2.post1)\n",
      "Requirement already satisfied: webencodings in /home/ec2-user/anaconda3/envs/JupyterSystemEnv/lib/python3.7/site-packages (from bleach->nbconvert>=5->notebook>=4.2->sparkmagic==0.20.4->sagemaker-studio-analytics-extension) (0.5.1)\n",
      "Requirement already satisfied: qtpy>=2.0.1 in /home/ec2-user/anaconda3/envs/JupyterSystemEnv/lib/python3.7/site-packages (from qtconsole->jupyter>=1->hdijupyterutils>=0.6->sparkmagic==0.20.4->sagemaker-studio-analytics-extension) (2.3.0)\n"
     ]
    },
    {
     "name": "stderr",
     "output_type": "stream",
     "text": [
      "sh: line 1: import: command not found\n",
      "sh: line 3: fg: no job control\n"
     ]
    },
    {
     "ename": "CalledProcessError",
     "evalue": "Command 'b'import os\\npip install sagemaker-studio-analytics-extension\\n%load_ext sagemaker_studio_analytics_extension.magics\\n'' returned non-zero exit status 1.",
     "output_type": "error",
     "traceback": [
      "\u001b[0;31m---------------------------------------------------------------------------\u001b[0m",
      "\u001b[0;31mCalledProcessError\u001b[0m                        Traceback (most recent call last)",
      "\u001b[0;32m<ipython-input-64-56917ef4fe14>\u001b[0m in \u001b[0;36m<module>\u001b[0;34m\u001b[0m\n\u001b[0;32m----> 1\u001b[0;31m \u001b[0mget_ipython\u001b[0m\u001b[0;34m(\u001b[0m\u001b[0;34m)\u001b[0m\u001b[0;34m.\u001b[0m\u001b[0mrun_cell_magic\u001b[0m\u001b[0;34m(\u001b[0m\u001b[0;34m'sh'\u001b[0m\u001b[0;34m,\u001b[0m \u001b[0;34m''\u001b[0m\u001b[0;34m,\u001b[0m \u001b[0;34m'import os\\npip install sagemaker-studio-analytics-extension\\n%load_ext sagemaker_studio_analytics_extension.magics\\n'\u001b[0m\u001b[0;34m)\u001b[0m\u001b[0;34m\u001b[0m\u001b[0;34m\u001b[0m\u001b[0m\n\u001b[0m",
      "\u001b[0;32m~/anaconda3/envs/JupyterSystemEnv/lib/python3.7/site-packages/IPython/core/interactiveshell.py\u001b[0m in \u001b[0;36mrun_cell_magic\u001b[0;34m(self, magic_name, line, cell)\u001b[0m\n\u001b[1;32m   2470\u001b[0m             \u001b[0;32mwith\u001b[0m \u001b[0mself\u001b[0m\u001b[0;34m.\u001b[0m\u001b[0mbuiltin_trap\u001b[0m\u001b[0;34m:\u001b[0m\u001b[0;34m\u001b[0m\u001b[0;34m\u001b[0m\u001b[0m\n\u001b[1;32m   2471\u001b[0m                 \u001b[0margs\u001b[0m \u001b[0;34m=\u001b[0m \u001b[0;34m(\u001b[0m\u001b[0mmagic_arg_s\u001b[0m\u001b[0;34m,\u001b[0m \u001b[0mcell\u001b[0m\u001b[0;34m)\u001b[0m\u001b[0;34m\u001b[0m\u001b[0;34m\u001b[0m\u001b[0m\n\u001b[0;32m-> 2472\u001b[0;31m                 \u001b[0mresult\u001b[0m \u001b[0;34m=\u001b[0m \u001b[0mfn\u001b[0m\u001b[0;34m(\u001b[0m\u001b[0;34m*\u001b[0m\u001b[0margs\u001b[0m\u001b[0;34m,\u001b[0m \u001b[0;34m**\u001b[0m\u001b[0mkwargs\u001b[0m\u001b[0;34m)\u001b[0m\u001b[0;34m\u001b[0m\u001b[0;34m\u001b[0m\u001b[0m\n\u001b[0m\u001b[1;32m   2473\u001b[0m             \u001b[0;32mreturn\u001b[0m \u001b[0mresult\u001b[0m\u001b[0;34m\u001b[0m\u001b[0;34m\u001b[0m\u001b[0m\n\u001b[1;32m   2474\u001b[0m \u001b[0;34m\u001b[0m\u001b[0m\n",
      "\u001b[0;32m~/anaconda3/envs/JupyterSystemEnv/lib/python3.7/site-packages/IPython/core/magics/script.py\u001b[0m in \u001b[0;36mnamed_script_magic\u001b[0;34m(line, cell)\u001b[0m\n\u001b[1;32m    140\u001b[0m             \u001b[0;32melse\u001b[0m\u001b[0;34m:\u001b[0m\u001b[0;34m\u001b[0m\u001b[0;34m\u001b[0m\u001b[0m\n\u001b[1;32m    141\u001b[0m                 \u001b[0mline\u001b[0m \u001b[0;34m=\u001b[0m \u001b[0mscript\u001b[0m\u001b[0;34m\u001b[0m\u001b[0;34m\u001b[0m\u001b[0m\n\u001b[0;32m--> 142\u001b[0;31m             \u001b[0;32mreturn\u001b[0m \u001b[0mself\u001b[0m\u001b[0;34m.\u001b[0m\u001b[0mshebang\u001b[0m\u001b[0;34m(\u001b[0m\u001b[0mline\u001b[0m\u001b[0;34m,\u001b[0m \u001b[0mcell\u001b[0m\u001b[0;34m)\u001b[0m\u001b[0;34m\u001b[0m\u001b[0;34m\u001b[0m\u001b[0m\n\u001b[0m\u001b[1;32m    143\u001b[0m \u001b[0;34m\u001b[0m\u001b[0m\n\u001b[1;32m    144\u001b[0m         \u001b[0;31m# write a basic docstring:\u001b[0m\u001b[0;34m\u001b[0m\u001b[0;34m\u001b[0m\u001b[0;34m\u001b[0m\u001b[0m\n",
      "\u001b[0;32m~/anaconda3/envs/JupyterSystemEnv/lib/python3.7/site-packages/decorator.py\u001b[0m in \u001b[0;36mfun\u001b[0;34m(*args, **kw)\u001b[0m\n\u001b[1;32m    230\u001b[0m             \u001b[0;32mif\u001b[0m \u001b[0;32mnot\u001b[0m \u001b[0mkwsyntax\u001b[0m\u001b[0;34m:\u001b[0m\u001b[0;34m\u001b[0m\u001b[0;34m\u001b[0m\u001b[0m\n\u001b[1;32m    231\u001b[0m                 \u001b[0margs\u001b[0m\u001b[0;34m,\u001b[0m \u001b[0mkw\u001b[0m \u001b[0;34m=\u001b[0m \u001b[0mfix\u001b[0m\u001b[0;34m(\u001b[0m\u001b[0margs\u001b[0m\u001b[0;34m,\u001b[0m \u001b[0mkw\u001b[0m\u001b[0;34m,\u001b[0m \u001b[0msig\u001b[0m\u001b[0;34m)\u001b[0m\u001b[0;34m\u001b[0m\u001b[0;34m\u001b[0m\u001b[0m\n\u001b[0;32m--> 232\u001b[0;31m             \u001b[0;32mreturn\u001b[0m \u001b[0mcaller\u001b[0m\u001b[0;34m(\u001b[0m\u001b[0mfunc\u001b[0m\u001b[0;34m,\u001b[0m \u001b[0;34m*\u001b[0m\u001b[0;34m(\u001b[0m\u001b[0mextras\u001b[0m \u001b[0;34m+\u001b[0m \u001b[0margs\u001b[0m\u001b[0;34m)\u001b[0m\u001b[0;34m,\u001b[0m \u001b[0;34m**\u001b[0m\u001b[0mkw\u001b[0m\u001b[0;34m)\u001b[0m\u001b[0;34m\u001b[0m\u001b[0;34m\u001b[0m\u001b[0m\n\u001b[0m\u001b[1;32m    233\u001b[0m     \u001b[0mfun\u001b[0m\u001b[0;34m.\u001b[0m\u001b[0m__name__\u001b[0m \u001b[0;34m=\u001b[0m \u001b[0mfunc\u001b[0m\u001b[0;34m.\u001b[0m\u001b[0m__name__\u001b[0m\u001b[0;34m\u001b[0m\u001b[0;34m\u001b[0m\u001b[0m\n\u001b[1;32m    234\u001b[0m     \u001b[0mfun\u001b[0m\u001b[0;34m.\u001b[0m\u001b[0m__doc__\u001b[0m \u001b[0;34m=\u001b[0m \u001b[0mfunc\u001b[0m\u001b[0;34m.\u001b[0m\u001b[0m__doc__\u001b[0m\u001b[0;34m\u001b[0m\u001b[0;34m\u001b[0m\u001b[0m\n",
      "\u001b[0;32m~/anaconda3/envs/JupyterSystemEnv/lib/python3.7/site-packages/IPython/core/magic.py\u001b[0m in \u001b[0;36m<lambda>\u001b[0;34m(f, *a, **k)\u001b[0m\n\u001b[1;32m    185\u001b[0m     \u001b[0;31m# but it's overkill for just that one bit of state.\u001b[0m\u001b[0;34m\u001b[0m\u001b[0;34m\u001b[0m\u001b[0;34m\u001b[0m\u001b[0m\n\u001b[1;32m    186\u001b[0m     \u001b[0;32mdef\u001b[0m \u001b[0mmagic_deco\u001b[0m\u001b[0;34m(\u001b[0m\u001b[0marg\u001b[0m\u001b[0;34m)\u001b[0m\u001b[0;34m:\u001b[0m\u001b[0;34m\u001b[0m\u001b[0;34m\u001b[0m\u001b[0m\n\u001b[0;32m--> 187\u001b[0;31m         \u001b[0mcall\u001b[0m \u001b[0;34m=\u001b[0m \u001b[0;32mlambda\u001b[0m \u001b[0mf\u001b[0m\u001b[0;34m,\u001b[0m \u001b[0;34m*\u001b[0m\u001b[0ma\u001b[0m\u001b[0;34m,\u001b[0m \u001b[0;34m**\u001b[0m\u001b[0mk\u001b[0m\u001b[0;34m:\u001b[0m \u001b[0mf\u001b[0m\u001b[0;34m(\u001b[0m\u001b[0;34m*\u001b[0m\u001b[0ma\u001b[0m\u001b[0;34m,\u001b[0m \u001b[0;34m**\u001b[0m\u001b[0mk\u001b[0m\u001b[0;34m)\u001b[0m\u001b[0;34m\u001b[0m\u001b[0;34m\u001b[0m\u001b[0m\n\u001b[0m\u001b[1;32m    188\u001b[0m \u001b[0;34m\u001b[0m\u001b[0m\n\u001b[1;32m    189\u001b[0m         \u001b[0;32mif\u001b[0m \u001b[0mcallable\u001b[0m\u001b[0;34m(\u001b[0m\u001b[0marg\u001b[0m\u001b[0;34m)\u001b[0m\u001b[0;34m:\u001b[0m\u001b[0;34m\u001b[0m\u001b[0;34m\u001b[0m\u001b[0m\n",
      "\u001b[0;32m~/anaconda3/envs/JupyterSystemEnv/lib/python3.7/site-packages/IPython/core/magics/script.py\u001b[0m in \u001b[0;36mshebang\u001b[0;34m(self, line, cell)\u001b[0m\n\u001b[1;32m    243\u001b[0m             \u001b[0msys\u001b[0m\u001b[0;34m.\u001b[0m\u001b[0mstderr\u001b[0m\u001b[0;34m.\u001b[0m\u001b[0mflush\u001b[0m\u001b[0;34m(\u001b[0m\u001b[0;34m)\u001b[0m\u001b[0;34m\u001b[0m\u001b[0;34m\u001b[0m\u001b[0m\n\u001b[1;32m    244\u001b[0m         \u001b[0;32mif\u001b[0m \u001b[0margs\u001b[0m\u001b[0;34m.\u001b[0m\u001b[0mraise_error\u001b[0m \u001b[0;32mand\u001b[0m \u001b[0mp\u001b[0m\u001b[0;34m.\u001b[0m\u001b[0mreturncode\u001b[0m\u001b[0;34m!=\u001b[0m\u001b[0;36m0\u001b[0m\u001b[0;34m:\u001b[0m\u001b[0;34m\u001b[0m\u001b[0;34m\u001b[0m\u001b[0m\n\u001b[0;32m--> 245\u001b[0;31m             \u001b[0;32mraise\u001b[0m \u001b[0mCalledProcessError\u001b[0m\u001b[0;34m(\u001b[0m\u001b[0mp\u001b[0m\u001b[0;34m.\u001b[0m\u001b[0mreturncode\u001b[0m\u001b[0;34m,\u001b[0m \u001b[0mcell\u001b[0m\u001b[0;34m,\u001b[0m \u001b[0moutput\u001b[0m\u001b[0;34m=\u001b[0m\u001b[0mout\u001b[0m\u001b[0;34m,\u001b[0m \u001b[0mstderr\u001b[0m\u001b[0;34m=\u001b[0m\u001b[0merr\u001b[0m\u001b[0;34m)\u001b[0m\u001b[0;34m\u001b[0m\u001b[0;34m\u001b[0m\u001b[0m\n\u001b[0m\u001b[1;32m    246\u001b[0m \u001b[0;34m\u001b[0m\u001b[0m\n\u001b[1;32m    247\u001b[0m     \u001b[0;32mdef\u001b[0m \u001b[0m_run_script\u001b[0m\u001b[0;34m(\u001b[0m\u001b[0mself\u001b[0m\u001b[0;34m,\u001b[0m \u001b[0mp\u001b[0m\u001b[0;34m,\u001b[0m \u001b[0mcell\u001b[0m\u001b[0;34m,\u001b[0m \u001b[0mto_close\u001b[0m\u001b[0;34m)\u001b[0m\u001b[0;34m:\u001b[0m\u001b[0;34m\u001b[0m\u001b[0;34m\u001b[0m\u001b[0m\n",
      "\u001b[0;31mCalledProcessError\u001b[0m: Command 'b'import os\\npip install sagemaker-studio-analytics-extension\\n%load_ext sagemaker_studio_analytics_extension.magics\\n'' returned non-zero exit status 1."
     ]
    }
   ],
   "source": [
    "%%sh\n",
    "pip install sagemaker-studio-analytics-extension\n",
    "%load_ext sagemaker_studio_analytics_extension.magics\n"
   ]
  },
  {
   "cell_type": "markdown",
   "id": "436a8482",
   "metadata": {},
   "source": [
    "## 1. Get EMR Cluster ID"
   ]
  },
  {
   "cell_type": "code",
   "execution_count": 70,
   "id": "20935159",
   "metadata": {},
   "outputs": [
    {
     "name": "stdout",
     "output_type": "stream",
     "text": [
      "j-3U8F7PV6UJJ6U\n"
     ]
    }
   ],
   "source": [
    "%%sh\n",
    "export CLUSTER\n",
    "CLUSTER=$(aws emr list-clusters --active  --query 'Clusters[?contains(Name,`emr-roadshow-runtime-role-lf`)].Id' --output text)\n",
    "\n",
    "echo $CLUSTER\n"
   ]
  },
  {
   "cell_type": "markdown",
   "id": "1d66908d",
   "metadata": {},
   "source": [
    "## 2. List all persona's IAM roles"
   ]
  },
  {
   "cell_type": "code",
   "execution_count": 90,
   "id": "f73078d7",
   "metadata": {},
   "outputs": [
    {
     "name": "stdout",
     "output_type": "stream",
     "text": [
      "arn:aws:iam::785675716968:role/lf-data-access-engineer\n",
      "arn:aws:iam::785675716968:role/lf-data-access-analyst\n"
     ]
    }
   ],
   "source": [
    "%%sh\n",
    "export ENGINEER_ROLE\n",
    "export ANALYST_ROLE\n",
    "\n",
    "ENGINEER_ROLE=$(aws iam list-roles --query 'Roles[?contains(RoleName,`engineer`)].Arn' --output text)\n",
    "ANALYST_ROLE=$(aws iam list-roles --query 'Roles[?contains(RoleName,`analyst`)].Arn' --output text)\n",
    "\n",
    "echo $ENGINEER_ROLE\n",
    "echo $ANALYST_ROLE\n"
   ]
  },
  {
   "cell_type": "code",
   "execution_count": 102,
   "id": "33afc984",
   "metadata": {},
   "outputs": [
    {
     "name": "stderr",
     "output_type": "stream",
     "text": [
      "The code failed because of a fatal error:\n",
      "\tError sending http request and maximum retry encountered..\n",
      "\n",
      "Some things to try:\n",
      "a) Make sure Spark has enough available resources for Jupyter to create a Spark context.\n",
      "b) Contact your Jupyter administrator to make sure the Spark magics library is configured correctly.\n",
      "c) Restart the kernel.\n"
     ]
    }
   ],
   "source": [
    "import os\n",
    "os.environ['MYPATH']=$ENGINEER_ROLE\n"
   ]
  },
  {
   "cell_type": "code",
   "execution_count": 99,
   "id": "9cc5bfc7",
   "metadata": {},
   "outputs": [
    {
     "name": "stdout",
     "output_type": "stream",
     "text": [
      "`arn:aws:iam::785675716968:role/lf-data-access-engineer`\r\n"
     ]
    }
   ],
   "source": [
    "%local \n",
    "!echo $MYPATH"
   ]
  },
  {
   "cell_type": "markdown",
   "id": "a86bf409",
   "metadata": {},
   "source": [
    "## 3. Submit job to EMR as a data engineer \n",
    "### can create databases"
   ]
  },
  {
   "cell_type": "code",
   "execution_count": 88,
   "id": "f378187a",
   "metadata": {},
   "outputs": [
    {
     "name": "stdout",
     "output_type": "stream",
     "text": [
      "Note: The next major version update will change the default for `--verify-certificate` from False to True, enabling SSL verification for HTTPS connections by default. Refer to %sm_analytics? for more details about options supported by `--verify-certificate` \n"
     ]
    },
    {
     "ename": "InvalidArnException",
     "evalue": "ARNs must be of the form arn:partition:service:region:accountId:resource",
     "output_type": "error",
     "traceback": [
      "\u001b[0;31m---------------------------------------------------------------------------\u001b[0m",
      "\u001b[0;31mTypeError\u001b[0m                                 Traceback (most recent call last)",
      "\u001b[0;32m~/anaconda3/envs/JupyterSystemEnv/lib/python3.7/site-packages/sagemaker_studio_analytics_extension/utils/arn_util.py\u001b[0m in \u001b[0;36mparse\u001b[0;34m(arn_string)\u001b[0m\n\u001b[1;32m     28\u001b[0m         \u001b[0;32mtry\u001b[0m\u001b[0;34m:\u001b[0m\u001b[0;34m\u001b[0m\u001b[0;34m\u001b[0m\u001b[0m\n\u001b[0;32m---> 29\u001b[0;31m             \u001b[0marn\u001b[0m \u001b[0;34m=\u001b[0m \u001b[0mARN\u001b[0m\u001b[0;34m(\u001b[0m\u001b[0;34m*\u001b[0m\u001b[0marn_string\u001b[0m\u001b[0;34m.\u001b[0m\u001b[0msplit\u001b[0m\u001b[0;34m(\u001b[0m\u001b[0;34m\":\"\u001b[0m\u001b[0;34m,\u001b[0m \u001b[0;36m5\u001b[0m\u001b[0;34m)\u001b[0m\u001b[0;34m)\u001b[0m\u001b[0;34m\u001b[0m\u001b[0;34m\u001b[0m\u001b[0m\n\u001b[0m\u001b[1;32m     30\u001b[0m         \u001b[0;32mexcept\u001b[0m \u001b[0mTypeError\u001b[0m\u001b[0;34m:\u001b[0m\u001b[0;34m\u001b[0m\u001b[0;34m\u001b[0m\u001b[0m\n",
      "\u001b[0;31mTypeError\u001b[0m: __new__() missing 5 required positional arguments: 'partition', 'service', 'region', 'account_id', and 'resource'",
      "\nDuring handling of the above exception, another exception occurred:\n",
      "\u001b[0;31mInvalidArnException\u001b[0m                       Traceback (most recent call last)",
      "\u001b[0;32m<ipython-input-88-a4d2fc2f20e3>\u001b[0m in \u001b[0;36m<module>\u001b[0;34m\u001b[0m\n\u001b[0;32m----> 1\u001b[0;31m \u001b[0mget_ipython\u001b[0m\u001b[0;34m(\u001b[0m\u001b[0;34m)\u001b[0m\u001b[0;34m.\u001b[0m\u001b[0mrun_line_magic\u001b[0m\u001b[0;34m(\u001b[0m\u001b[0;34m'sm_analytics'\u001b[0m\u001b[0;34m,\u001b[0m \u001b[0;34m'emr connect  --cluster-id $CLUSTER  --auth-type Basic_Access  --emr-execution-role-arn $ENGINEER_ROLE'\u001b[0m\u001b[0;34m)\u001b[0m\u001b[0;34m\u001b[0m\u001b[0;34m\u001b[0m\u001b[0m\n\u001b[0m",
      "\u001b[0;32m~/anaconda3/envs/JupyterSystemEnv/lib/python3.7/site-packages/IPython/core/interactiveshell.py\u001b[0m in \u001b[0;36mrun_line_magic\u001b[0;34m(self, magic_name, line, _stack_depth)\u001b[0m\n\u001b[1;32m   2415\u001b[0m                 \u001b[0mkwargs\u001b[0m\u001b[0;34m[\u001b[0m\u001b[0;34m'local_ns'\u001b[0m\u001b[0;34m]\u001b[0m \u001b[0;34m=\u001b[0m \u001b[0mself\u001b[0m\u001b[0;34m.\u001b[0m\u001b[0mget_local_scope\u001b[0m\u001b[0;34m(\u001b[0m\u001b[0mstack_depth\u001b[0m\u001b[0;34m)\u001b[0m\u001b[0;34m\u001b[0m\u001b[0;34m\u001b[0m\u001b[0m\n\u001b[1;32m   2416\u001b[0m             \u001b[0;32mwith\u001b[0m \u001b[0mself\u001b[0m\u001b[0;34m.\u001b[0m\u001b[0mbuiltin_trap\u001b[0m\u001b[0;34m:\u001b[0m\u001b[0;34m\u001b[0m\u001b[0;34m\u001b[0m\u001b[0m\n\u001b[0;32m-> 2417\u001b[0;31m                 \u001b[0mresult\u001b[0m \u001b[0;34m=\u001b[0m \u001b[0mfn\u001b[0m\u001b[0;34m(\u001b[0m\u001b[0;34m*\u001b[0m\u001b[0margs\u001b[0m\u001b[0;34m,\u001b[0m \u001b[0;34m**\u001b[0m\u001b[0mkwargs\u001b[0m\u001b[0;34m)\u001b[0m\u001b[0;34m\u001b[0m\u001b[0;34m\u001b[0m\u001b[0m\n\u001b[0m\u001b[1;32m   2418\u001b[0m             \u001b[0;32mreturn\u001b[0m \u001b[0mresult\u001b[0m\u001b[0;34m\u001b[0m\u001b[0;34m\u001b[0m\u001b[0m\n\u001b[1;32m   2419\u001b[0m \u001b[0;34m\u001b[0m\u001b[0m\n",
      "\u001b[0;32m~/anaconda3/envs/JupyterSystemEnv/lib/python3.7/site-packages/decorator.py\u001b[0m in \u001b[0;36mfun\u001b[0;34m(*args, **kw)\u001b[0m\n\u001b[1;32m    230\u001b[0m             \u001b[0;32mif\u001b[0m \u001b[0;32mnot\u001b[0m \u001b[0mkwsyntax\u001b[0m\u001b[0;34m:\u001b[0m\u001b[0;34m\u001b[0m\u001b[0;34m\u001b[0m\u001b[0m\n\u001b[1;32m    231\u001b[0m                 \u001b[0margs\u001b[0m\u001b[0;34m,\u001b[0m \u001b[0mkw\u001b[0m \u001b[0;34m=\u001b[0m \u001b[0mfix\u001b[0m\u001b[0;34m(\u001b[0m\u001b[0margs\u001b[0m\u001b[0;34m,\u001b[0m \u001b[0mkw\u001b[0m\u001b[0;34m,\u001b[0m \u001b[0msig\u001b[0m\u001b[0;34m)\u001b[0m\u001b[0;34m\u001b[0m\u001b[0;34m\u001b[0m\u001b[0m\n\u001b[0;32m--> 232\u001b[0;31m             \u001b[0;32mreturn\u001b[0m \u001b[0mcaller\u001b[0m\u001b[0;34m(\u001b[0m\u001b[0mfunc\u001b[0m\u001b[0;34m,\u001b[0m \u001b[0;34m*\u001b[0m\u001b[0;34m(\u001b[0m\u001b[0mextras\u001b[0m \u001b[0;34m+\u001b[0m \u001b[0margs\u001b[0m\u001b[0;34m)\u001b[0m\u001b[0;34m,\u001b[0m \u001b[0;34m**\u001b[0m\u001b[0mkw\u001b[0m\u001b[0;34m)\u001b[0m\u001b[0;34m\u001b[0m\u001b[0;34m\u001b[0m\u001b[0m\n\u001b[0m\u001b[1;32m    233\u001b[0m     \u001b[0mfun\u001b[0m\u001b[0;34m.\u001b[0m\u001b[0m__name__\u001b[0m \u001b[0;34m=\u001b[0m \u001b[0mfunc\u001b[0m\u001b[0;34m.\u001b[0m\u001b[0m__name__\u001b[0m\u001b[0;34m\u001b[0m\u001b[0;34m\u001b[0m\u001b[0m\n\u001b[1;32m    234\u001b[0m     \u001b[0mfun\u001b[0m\u001b[0;34m.\u001b[0m\u001b[0m__doc__\u001b[0m \u001b[0;34m=\u001b[0m \u001b[0mfunc\u001b[0m\u001b[0;34m.\u001b[0m\u001b[0m__doc__\u001b[0m\u001b[0;34m\u001b[0m\u001b[0;34m\u001b[0m\u001b[0m\n",
      "\u001b[0;32m~/anaconda3/envs/JupyterSystemEnv/lib/python3.7/site-packages/IPython/core/magic.py\u001b[0m in \u001b[0;36m<lambda>\u001b[0;34m(f, *a, **k)\u001b[0m\n\u001b[1;32m    185\u001b[0m     \u001b[0;31m# but it's overkill for just that one bit of state.\u001b[0m\u001b[0;34m\u001b[0m\u001b[0;34m\u001b[0m\u001b[0;34m\u001b[0m\u001b[0m\n\u001b[1;32m    186\u001b[0m     \u001b[0;32mdef\u001b[0m \u001b[0mmagic_deco\u001b[0m\u001b[0;34m(\u001b[0m\u001b[0marg\u001b[0m\u001b[0;34m)\u001b[0m\u001b[0;34m:\u001b[0m\u001b[0;34m\u001b[0m\u001b[0;34m\u001b[0m\u001b[0m\n\u001b[0;32m--> 187\u001b[0;31m         \u001b[0mcall\u001b[0m \u001b[0;34m=\u001b[0m \u001b[0;32mlambda\u001b[0m \u001b[0mf\u001b[0m\u001b[0;34m,\u001b[0m \u001b[0;34m*\u001b[0m\u001b[0ma\u001b[0m\u001b[0;34m,\u001b[0m \u001b[0;34m**\u001b[0m\u001b[0mk\u001b[0m\u001b[0;34m:\u001b[0m \u001b[0mf\u001b[0m\u001b[0;34m(\u001b[0m\u001b[0;34m*\u001b[0m\u001b[0ma\u001b[0m\u001b[0;34m,\u001b[0m \u001b[0;34m**\u001b[0m\u001b[0mk\u001b[0m\u001b[0;34m)\u001b[0m\u001b[0;34m\u001b[0m\u001b[0;34m\u001b[0m\u001b[0m\n\u001b[0m\u001b[1;32m    188\u001b[0m \u001b[0;34m\u001b[0m\u001b[0m\n\u001b[1;32m    189\u001b[0m         \u001b[0;32mif\u001b[0m \u001b[0mcallable\u001b[0m\u001b[0;34m(\u001b[0m\u001b[0marg\u001b[0m\u001b[0;34m)\u001b[0m\u001b[0;34m:\u001b[0m\u001b[0;34m\u001b[0m\u001b[0;34m\u001b[0m\u001b[0m\n",
      "\u001b[0;32m~/anaconda3/envs/JupyterSystemEnv/lib/python3.7/site-packages/sagemaker_studio_analytics_extension/magics/sagemaker_analytics.py\u001b[0m in \u001b[0;36msm_analytics\u001b[0;34m(self, line)\u001b[0m\n\u001b[1;32m    931\u001b[0m                     \u001b[0;32mraise\u001b[0m \u001b[0me\u001b[0m\u001b[0;34m\u001b[0m\u001b[0;34m\u001b[0m\u001b[0m\n\u001b[1;32m    932\u001b[0m \u001b[0;34m\u001b[0m\u001b[0m\n\u001b[0;32m--> 933\u001b[0;31m                 \u001b[0m_validate_emr_args\u001b[0m\u001b[0;34m(\u001b[0m\u001b[0margs\u001b[0m\u001b[0;34m=\u001b[0m\u001b[0margs\u001b[0m\u001b[0;34m,\u001b[0m \u001b[0musage\u001b[0m\u001b[0;34m=\u001b[0m\u001b[0musage\u001b[0m\u001b[0;34m,\u001b[0m \u001b[0mkernel_name\u001b[0m\u001b[0;34m=\u001b[0m\u001b[0mkernel_name\u001b[0m\u001b[0;34m)\u001b[0m\u001b[0;34m\u001b[0m\u001b[0;34m\u001b[0m\u001b[0m\n\u001b[0m\u001b[1;32m    934\u001b[0m                 \u001b[0;31m# Only create boto session if absolutely needed\u001b[0m\u001b[0;34m\u001b[0m\u001b[0;34m\u001b[0m\u001b[0;34m\u001b[0m\u001b[0m\n\u001b[1;32m    935\u001b[0m                 \u001b[0mboto_session\u001b[0m \u001b[0;34m=\u001b[0m \u001b[0mget_boto3_session\u001b[0m\u001b[0;34m(\u001b[0m\u001b[0margs\u001b[0m\u001b[0;34m.\u001b[0m\u001b[0massumable_role_arn\u001b[0m\u001b[0;34m)\u001b[0m\u001b[0;34m\u001b[0m\u001b[0;34m\u001b[0m\u001b[0m\n",
      "\u001b[0;32m~/anaconda3/envs/JupyterSystemEnv/lib/python3.7/site-packages/sagemaker_studio_analytics_extension/magics/sagemaker_analytics.py\u001b[0m in \u001b[0;36m_validate_emr_args\u001b[0;34m(args, usage, kernel_name)\u001b[0m\n\u001b[1;32m    658\u001b[0m \u001b[0;34m\u001b[0m\u001b[0m\n\u001b[1;32m    659\u001b[0m     \u001b[0;32mif\u001b[0m \u001b[0margs\u001b[0m\u001b[0;34m.\u001b[0m\u001b[0memr_execution_role_arn\u001b[0m\u001b[0;34m:\u001b[0m\u001b[0;34m\u001b[0m\u001b[0;34m\u001b[0m\u001b[0m\n\u001b[0;32m--> 660\u001b[0;31m         \u001b[0mRoleArnValidator\u001b[0m\u001b[0;34m.\u001b[0m\u001b[0mvalidate\u001b[0m\u001b[0;34m(\u001b[0m\u001b[0margs\u001b[0m\u001b[0;34m.\u001b[0m\u001b[0memr_execution_role_arn\u001b[0m\u001b[0;34m)\u001b[0m\u001b[0;34m\u001b[0m\u001b[0;34m\u001b[0m\u001b[0m\n\u001b[0m\u001b[1;32m    661\u001b[0m \u001b[0;34m\u001b[0m\u001b[0m\n\u001b[1;32m    662\u001b[0m     \u001b[0;31m# Only IPython kernel needs language option support\u001b[0m\u001b[0;34m\u001b[0m\u001b[0;34m\u001b[0m\u001b[0;34m\u001b[0m\u001b[0m\n",
      "\u001b[0;32m~/anaconda3/envs/JupyterSystemEnv/lib/python3.7/site-packages/sagemaker_studio_analytics_extension/utils/arn_util.py\u001b[0m in \u001b[0;36mvalidate\u001b[0;34m(arn_string)\u001b[0m\n\u001b[1;32m     60\u001b[0m         \u001b[0mValidate\u001b[0m \u001b[0mthat\u001b[0m \u001b[0mthe\u001b[0m \u001b[0mgiven\u001b[0m \u001b[0mARN\u001b[0m \u001b[0mrepresents\u001b[0m \u001b[0man\u001b[0m \u001b[0mIAM\u001b[0m \u001b[0mrole\u001b[0m\u001b[0;34m\u001b[0m\u001b[0;34m\u001b[0m\u001b[0m\n\u001b[1;32m     61\u001b[0m         \"\"\"\n\u001b[0;32m---> 62\u001b[0;31m         \u001b[0marn\u001b[0m \u001b[0;34m=\u001b[0m \u001b[0mArnParser\u001b[0m\u001b[0;34m.\u001b[0m\u001b[0mparse\u001b[0m\u001b[0;34m(\u001b[0m\u001b[0marn_string\u001b[0m\u001b[0;34m)\u001b[0m\u001b[0;34m\u001b[0m\u001b[0;34m\u001b[0m\u001b[0m\n\u001b[0m\u001b[1;32m     63\u001b[0m         \u001b[0;32mif\u001b[0m \u001b[0marn\u001b[0m\u001b[0;34m.\u001b[0m\u001b[0mservice\u001b[0m \u001b[0;34m!=\u001b[0m \u001b[0mRoleArnValidator\u001b[0m\u001b[0;34m.\u001b[0m\u001b[0mIAM_SERVICE\u001b[0m\u001b[0;34m:\u001b[0m\u001b[0;34m\u001b[0m\u001b[0;34m\u001b[0m\u001b[0m\n\u001b[1;32m     64\u001b[0m             raise InvalidArnException(\n",
      "\u001b[0;32m~/anaconda3/envs/JupyterSystemEnv/lib/python3.7/site-packages/sagemaker_studio_analytics_extension/utils/arn_util.py\u001b[0m in \u001b[0;36mparse\u001b[0;34m(arn_string)\u001b[0m\n\u001b[1;32m     30\u001b[0m         \u001b[0;32mexcept\u001b[0m \u001b[0mTypeError\u001b[0m\u001b[0;34m:\u001b[0m\u001b[0;34m\u001b[0m\u001b[0;34m\u001b[0m\u001b[0m\n\u001b[1;32m     31\u001b[0m             raise InvalidArnException(\n\u001b[0;32m---> 32\u001b[0;31m                 \u001b[0;34m\"ARNs must be of the form arn:partition:service:region:accountId:resource\"\u001b[0m\u001b[0;34m\u001b[0m\u001b[0;34m\u001b[0m\u001b[0m\n\u001b[0m\u001b[1;32m     33\u001b[0m             )\n\u001b[1;32m     34\u001b[0m \u001b[0;34m\u001b[0m\u001b[0m\n",
      "\u001b[0;31mInvalidArnException\u001b[0m: ARNs must be of the form arn:partition:service:region:accountId:resource"
     ]
    }
   ],
   "source": [
    "%sm_analytics emr connect \\\n",
    "--cluster-id $CLUSTER \\\n",
    "--auth-type Basic_Access \\\n",
    "--emr-execution-role-arn $ENGINEER_ROLE"
   ]
  },
  {
   "cell_type": "code",
   "execution_count": null,
   "id": "d8450685",
   "metadata": {},
   "outputs": [],
   "source": [
    "%%configure -f\n",
    "{ \"conf\": {\n",
    "    \"spark.jars\":\"hdfs:///apps/hudi/lib/hudi-spark-bundle.jar\",\n",
    "    \"spark.serializer\":\"org.apache.spark.serializer.KryoSerializer\",\n",
    "    \"spark.sql.catalog.spark_catalog\": \"org.apache.spark.sql.hudi.catalog.HoodieCatalog\",\n",
    "    \"spark.sql.extensions\":\"org.apache.spark.sql.hudi.HoodieSparkSessionExtension\"\n",
    "}}"
   ]
  },
  {
   "cell_type": "code",
   "execution_count": null,
   "id": "06417216",
   "metadata": {},
   "outputs": [],
   "source": [
    "import os\n",
    "from pyspark.sql.functions import concat, col, lit, to_timestamp, dense_rank, desc, count, rand, when\n",
    "from pyspark.sql.window import Window\n",
    "from pyspark.sql.types import StringType\n",
    "\n",
    "\n",
    "rawS3TablePath = \"s3://cpa-lakeformation-sagemaker-poc/data_lake_location/tickets/dms_sample/ticket_purchase_hist/\"\n",
    "hudiTablePath = \"s3://cpa-lakeformation-sagemaker-poc/data_lake_location/hudi/\"\n",
    "cdcTablePath = \"s3://cpa-lakeformation-sagemaker-poc/data_lake_location/cdc/dms_sample/ticket_purchase_hist/\"\n",
    "\n",
    "targetDBName = 'cpa_hudi_sample'\n",
    "targetTableName = 'cpa_hudi_ticket_purchase_hist'\n",
    "targetPath = os.path.join(hudiTablePath, targetDBName, targetTableName)\n",
    "\n",
    "primaryKey = \"sporting_event_ticket_id\"\n",
    "\n",
    "hudiStorageType = 'CoW'\n"
   ]
  },
  {
   "cell_type": "code",
   "execution_count": null,
   "id": "3ea59fa4",
   "metadata": {},
   "outputs": [],
   "source": [
    "spark.sql('CREATE DATABASE IF NOT EXISTS ' + targetDBName)"
   ]
  },
  {
   "cell_type": "code",
   "execution_count": null,
   "id": "f769d0d4",
   "metadata": {},
   "outputs": [],
   "source": [
    "# Create Hudi Table\n",
    "commonConfig = {\n",
    "    'className' : 'org.apache.hudi', \n",
    "    'hoodie.datasource.hive_sync.use_jdbc':'false', \n",
    "    'hoodie.datasource.write.precombine.field': 'transaction_date_time', \n",
    "    'hoodie.datasource.write.recordkey.field': primaryKey, \n",
    "    'hoodie.table.name': targetTableName, \n",
    "    'hoodie.consistency.check.enabled': 'true', \n",
    "    'hoodie.datasource.hive_sync.database': targetDBName, \n",
    "    'hoodie.datasource.hive_sync.table': targetTableName, \n",
    "    'hoodie.datasource.hive_sync.enable': 'true',\n",
    "    'hoodie.datasource.hive_sync.mode': \"hms\"\n",
    "}\n",
    "\n",
    "unpartitionDataConfig = {\n",
    "    'hoodie.datasource.hive_sync.partition_extractor_class': 'org.apache.hudi.hive.NonPartitionedExtractor', \n",
    "    'hoodie.datasource.write.keygenerator.class': 'org.apache.hudi.keygen.NonpartitionedKeyGenerator'\n",
    "}\n",
    "\n",
    "initLoadConfig = {\n",
    "    'hoodie.bulkinsert.shuffle.parallelism': 3, \n",
    "    'hoodie.datasource.write.operation': 'bulk_insert'\n",
    "}\n",
    "\n",
    "incrementalConfig = {\n",
    "    'hoodie.upsert.shuffle.parallelism': 20, \n",
    "    'hoodie.datasource.write.operation': 'upsert', \n",
    "    'hoodie.cleaner.policy': 'KEEP_LATEST_COMMITS', \n",
    "    'hoodie.cleaner.commits.retained': 10\n",
    "}\n",
    "\n",
    "dropColumnList = ['db','table_name','Op']"
   ]
  },
  {
   "cell_type": "code",
   "execution_count": null,
   "id": "87d328bb",
   "metadata": {},
   "outputs": [],
   "source": [
    "# Input raw dataframe\n",
    "inputDf = spark.read.option(\"header\", True).csv(rawS3TablePath)\n",
    "inputDf.printSchema()\n"
   ]
  },
  {
   "cell_type": "code",
   "execution_count": null,
   "id": "4a141a2d",
   "metadata": {},
   "outputs": [],
   "source": [
    "inputDf.show(10, False)"
   ]
  },
  {
   "cell_type": "markdown",
   "id": "e3982505",
   "metadata": {},
   "source": [
    "## Login as an analyst \n",
    "### test the column-level permission"
   ]
  },
  {
   "cell_type": "code",
   "execution_count": null,
   "id": "acc7faca",
   "metadata": {},
   "outputs": [],
   "source": [
    "%sm_analytics emr connect \\\n",
    "--cluster-id j-3NK7CP7TFAEY6 \\\n",
    "--auth-type Basic_Access \\\n",
    "--emr-execution-role-arn arn:aws:iam::633458367150:role/lf-data-access-analyst\n",
    "     "
   ]
  },
  {
   "cell_type": "code",
   "execution_count": null,
   "id": "76af52e4",
   "metadata": {},
   "outputs": [],
   "source": [
    "spark.sql(\"show databases\").show()\n"
   ]
  },
  {
   "cell_type": "code",
   "execution_count": null,
   "id": "118a73bb",
   "metadata": {},
   "outputs": [],
   "source": [
    "spark.sql(\"use cpa_hudi_sample\")\n",
    "# spark.sql(\"desc formatted cpa_hudi_ticket_purchase_hist\").show(100, False)\n",
    "spark.sql(\"SELECT * FROM cpa_hudi_sample.cpa_hudi_ticket_purchase_hist limit 10\").show()"
   ]
  }
 ],
 "metadata": {
  "kernelspec": {
   "display_name": "Sparkmagic (PySpark)",
   "language": "python",
   "name": "pysparkkernel"
  },
  "language_info": {
   "codemirror_mode": {
    "name": "python",
    "version": 3
   },
   "file_extension": ".py",
   "mimetype": "text/x-python",
   "name": "pyspark",
   "pygments_lexer": "python3"
  }
 },
 "nbformat": 4,
 "nbformat_minor": 5
}
