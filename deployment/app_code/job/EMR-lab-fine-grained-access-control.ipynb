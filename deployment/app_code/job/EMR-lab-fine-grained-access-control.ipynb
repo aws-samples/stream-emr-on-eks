{
 "cells": [
  {
   "attachments": {},
   "cell_type": "markdown",
   "id": "81deb244",
   "metadata": {},
   "source": [
    "## Load sagemaker_studio_analytics_extension"
   ]
  },
  {
   "cell_type": "code",
   "execution_count": null,
   "id": "be5bf4fb",
   "metadata": {},
   "outputs": [],
   "source": [
    "%load_ext sagemaker_studio_analytics_extension.magics"
   ]
  },
  {
   "attachments": {},
   "cell_type": "markdown",
   "id": "a86bf409",
   "metadata": {},
   "source": [
    "## 3. Act as data engineer "
   ]
  },
  {
   "attachments": {},
   "cell_type": "markdown",
   "id": "396f4dba",
   "metadata": {},
   "source": [
    "Configure Apache Hudi for Apache Spark"
   ]
  },
  {
   "cell_type": "code",
   "execution_count": null,
   "id": "d8450685",
   "metadata": {},
   "outputs": [],
   "source": [
    "%%configure -f\n",
    "{ \"conf\": {\n",
    "    \"spark.jars\":\"hdfs:///apps/hudi/lib/hudi-spark-bundle.jar\",\n",
    "    \"spark.serializer\":\"org.apache.spark.serializer.KryoSerializer\",\n",
    "    \"spark.sql.catalog.spark_catalog\": \"org.apache.spark.sql.hudi.catalog.HoodieCatalog\",\n",
    "    \"spark.sql.extensions\":\"org.apache.spark.sql.hudi.HoodieSparkSessionExtension\"\n",
    "}}"
   ]
  },
  {
   "attachments": {},
   "cell_type": "markdown",
   "id": "df115874",
   "metadata": {},
   "source": [
    "Connect to Cluster via Livy with EMR execution role: ENGINEER_ROLE"
   ]
  },
  {
   "cell_type": "code",
   "execution_count": null,
   "id": "29a8651c",
   "metadata": {
    "vscode": {
     "languageId": "plaintext"
    }
   },
   "outputs": [],
   "source": [
    "%%sh\n",
    "source ~/.bash_profile\n",
    "echo $ENGINEER_ROLE\n",
    "echo $ANALYST_ROLE\n",
    "echo $CLUSTER_ID"
   ]
  },
  {
   "cell_type": "code",
   "execution_count": null,
   "id": "f378187a",
   "metadata": {},
   "outputs": [],
   "source": [
    "%sm_analytics emr connect \\\n",
    "--cluster-id <CLUSTER_ID> \\\n",
    "--auth-type Basic_Access \\\n",
    "--emr-execution-role-arn <ENGINEER_ROLE>"
   ]
  },
  {
   "attachments": {},
   "cell_type": "markdown",
   "id": "0fd086d4",
   "metadata": {},
   "source": [
    "Show session information"
   ]
  },
  {
   "cell_type": "code",
   "execution_count": null,
   "id": "2b6bbf56",
   "metadata": {
    "vscode": {
     "languageId": "plaintext"
    }
   },
   "outputs": [],
   "source": [
    "%%info"
   ]
  },
  {
   "attachments": {},
   "cell_type": "markdown",
   "id": "0457eb53",
   "metadata": {},
   "source": [
    "Obtain account ID and region"
   ]
  },
  {
   "cell_type": "code",
   "execution_count": null,
   "id": "49dbf80d",
   "metadata": {
    "vscode": {
     "languageId": "plaintext"
    }
   },
   "outputs": [],
   "source": [
    "%%sh\n",
    "ACCOUNT_ID=$(aws sts get-caller-identity --query \"Account\" --output text)\n",
    "echo $ACCOUNT_ID\n",
    "\n",
    "REGION=$(aws configure get region)\n",
    "echo $REGION"
   ]
  },
  {
   "cell_type": "code",
   "execution_count": null,
   "id": "55e04f48",
   "metadata": {
    "vscode": {
     "languageId": "plaintext"
    }
   },
   "outputs": [],
   "source": [
    "account_id=\"account_id\"\n",
    "region=\"region\""
   ]
  },
  {
   "attachments": {},
   "cell_type": "markdown",
   "id": "58c57126",
   "metadata": {},
   "source": [
    "Getting started Apache Hudi and Apache Spark"
   ]
  },
  {
   "cell_type": "code",
   "execution_count": null,
   "id": "06417216",
   "metadata": {},
   "outputs": [],
   "source": [
    "import os\n",
    "from pyspark.sql.functions import concat, col, lit, to_timestamp, dense_rank, desc, count, rand, when\n",
    "from pyspark.sql.window import Window\n",
    "from pyspark.sql.types import StringType\n",
    "\n",
    "\n",
    "rawS3TablePath = f\"s3://lf-datalake-{account_id}-{region}/data_lake_location/tickets/dms_sample/ticket_purchase_hist/\"\n",
    "hudiTablePath = f\"s3://lf-datalake-{account_id}-{region}/data_lake_location/hudi/\"\n",
    "cdcTablePath = f\"s3://lf-datalake-{account_id}-{region}/data_lake_location/cdc/dms_sample/ticket_purchase_hist/\"\n",
    "\n",
    "targetDBName = 'cpa_hudi_sample'\n",
    "targetTableName = 'cpa_hudi_ticket_purchase_hist'\n",
    "targetPath = os.path.join(hudiTablePath, targetDBName, targetTableName)\n",
    "\n",
    "primaryKey = \"sporting_event_ticket_id\"\n",
    "\n",
    "hudiStorageType = 'CoW'"
   ]
  },
  {
   "cell_type": "code",
   "execution_count": null,
   "id": "3ea59fa4",
   "metadata": {},
   "outputs": [],
   "source": [
    "spark.sql('CREATE DATABASE IF NOT EXISTS ' + targetDBName)"
   ]
  },
  {
   "cell_type": "code",
   "execution_count": null,
   "id": "f769d0d4",
   "metadata": {},
   "outputs": [],
   "source": [
    "# Create Hudi Table\n",
    "commonConfig = {\n",
    "    'className' : 'org.apache.hudi', \n",
    "    'hoodie.datasource.hive_sync.use_jdbc':'false', \n",
    "    'hoodie.datasource.write.precombine.field': 'transaction_date_time', \n",
    "    'hoodie.datasource.write.recordkey.field': primaryKey, \n",
    "    'hoodie.table.name': targetTableName, \n",
    "    'hoodie.consistency.check.enabled': 'true', \n",
    "    'hoodie.datasource.hive_sync.database': targetDBName, \n",
    "    'hoodie.datasource.hive_sync.table': targetTableName, \n",
    "    'hoodie.datasource.hive_sync.enable': 'true',\n",
    "    'hoodie.datasource.hive_sync.mode': \"hms\"\n",
    "}\n",
    "\n",
    "unpartitionDataConfig = {\n",
    "    'hoodie.datasource.hive_sync.partition_extractor_class': 'org.apache.hudi.hive.NonPartitionedExtractor', \n",
    "    'hoodie.datasource.write.keygenerator.class': 'org.apache.hudi.keygen.NonpartitionedKeyGenerator'\n",
    "}\n",
    "\n",
    "initLoadConfig = {\n",
    "    'hoodie.bulkinsert.shuffle.parallelism': 3, \n",
    "    'hoodie.datasource.write.operation': 'bulk_insert'\n",
    "}\n",
    "\n",
    "incrementalConfig = {\n",
    "    'hoodie.upsert.shuffle.parallelism': 20, \n",
    "    'hoodie.datasource.write.operation': 'upsert', \n",
    "    'hoodie.cleaner.policy': 'KEEP_LATEST_COMMITS', \n",
    "    'hoodie.cleaner.commits.retained': 10\n",
    "}\n",
    "\n",
    "dropColumnList = ['db','table_name','Op']"
   ]
  },
  {
   "cell_type": "code",
   "execution_count": null,
   "id": "87d328bb",
   "metadata": {},
   "outputs": [],
   "source": [
    "# Input raw dataframe\n",
    "inputDf = spark.read.option(\"header\", True).csv(rawS3TablePath)\n",
    "inputDf.printSchema()"
   ]
  },
  {
   "cell_type": "code",
   "execution_count": null,
   "id": "4a141a2d",
   "metadata": {},
   "outputs": [],
   "source": [
    "inputDf.show(10, False)"
   ]
  },
  {
   "attachments": {},
   "cell_type": "markdown",
   "id": "e3982505",
   "metadata": {},
   "source": [
    "## Login as an analyst"
   ]
  },
  {
   "attachments": {},
   "cell_type": "markdown",
   "id": "f88c3229",
   "metadata": {},
   "source": [
    "Connect to Cluster via Livy with EMR execution role: ANALYST_ROLE"
   ]
  },
  {
   "cell_type": "code",
   "execution_count": null,
   "id": "64129bdf",
   "metadata": {
    "vscode": {
     "languageId": "plaintext"
    }
   },
   "outputs": [],
   "source": [
    "%%sh\n",
    "source ~/.bash_profile\n",
    "echo $ENGINEER_ROLE\n",
    "echo $ANALYST_ROLE\n",
    "echo $CLUSTER_ID"
   ]
  },
  {
   "cell_type": "code",
   "execution_count": null,
   "id": "acc7faca",
   "metadata": {},
   "outputs": [],
   "source": [
    "%sm_analytics emr connect \\\n",
    "--cluster-id <CLUSTER_ID> \\\n",
    "--auth-type Basic_Access \\\n",
    "--emr-execution-role-arn <ANALYST_ROLE>"
   ]
  },
  {
   "attachments": {},
   "cell_type": "markdown",
   "id": "42651457",
   "metadata": {},
   "source": [
    "test the column-level permission"
   ]
  },
  {
   "cell_type": "code",
   "execution_count": null,
   "id": "76af52e4",
   "metadata": {},
   "outputs": [],
   "source": [
    "spark.sql(\"show databases\").show()"
   ]
  },
  {
   "cell_type": "code",
   "execution_count": null,
   "id": "118a73bb",
   "metadata": {},
   "outputs": [],
   "source": [
    "spark.sql(\"use cpa_hudi_sample\")\n",
    "# spark.sql(\"desc formatted cpa_hudi_ticket_purchase_hist\").show(100, False)\n",
    "spark.sql(\"SELECT * FROM cpa_hudi_sample.cpa_hudi_ticket_purchase_hist limit 10\").show()"
   ]
  }
 ],
 "metadata": {
  "kernelspec": {
   "display_name": "Sparkmagic (PySpark)",
   "language": "python",
   "name": "pysparkkernel"
  },
  "language_info": {
   "codemirror_mode": {
    "name": "python",
    "version": 3
   },
   "file_extension": ".py",
   "mimetype": "text/x-python",
   "name": "pyspark",
   "pygments_lexer": "python3"
  }
 },
 "nbformat": 4,
 "nbformat_minor": 5
}
